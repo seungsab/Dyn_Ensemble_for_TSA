{
 "cells": [
  {
   "cell_type": "code",
   "execution_count": 1,
   "metadata": {},
   "outputs": [],
   "source": [
    "def image_to_base64(image_file, output_file):\n",
    "\n",
    "    # need base 64\n",
    "    import base64,sys\n",
    "    # open the image\n",
    "    image = open(image_file, 'rb') \n",
    "    # read it\n",
    "    image_read = image.read() \n",
    "    # encode it as base 64\n",
    "    # after python>=3.9, use `encodebytes` instead of `encodestring`  \n",
    "    image_64_encode = base64.encodestring(image_read) if sys.version_info <(3,9) else base64.encodebytes(image_read)\n",
    "    # convert the image base 64 to a string\n",
    "    image_string = str(image_64_encode)\n",
    "    # replace the newline characters\n",
    "    image_string = image_string.replace(\"\\\\n\", \"\")\n",
    "    # replace the initial binary\n",
    "    image_string = image_string.replace(\"b'\", \"\")\n",
    "    # replace the final question mark\n",
    "    image_string = image_string.replace(\"'\", \"\")\n",
    "    # add the image tags\n",
    "    image_string = '<center> <p><img src=\"data:image/png;base64,' + image_string + '\"></p> </center>'\n",
    "    # write it out\n",
    "    image_result = open(output_file, 'w')\n",
    "    image_result.write(image_string)"
   ]
  },
  {
   "cell_type": "code",
   "execution_count": 14,
   "metadata": {},
   "outputs": [],
   "source": [
    "image_file, output_file = 'fig1.webp', 'output.txt'\n",
    "image_to_base64(image_file, output_file)"
   ]
  },
  {
   "attachments": {},
   "cell_type": "markdown",
   "metadata": {},
   "source": [
    "https://github.com/vcerqueira/blog"
   ]
  },
  {
   "cell_type": "markdown",
   "metadata": {},
   "source": []
  }
 ],
 "metadata": {
  "kernelspec": {
   "display_name": "Dyn_Ensemble_for_TSA",
   "language": "python",
   "name": "python3"
  },
  "language_info": {
   "codemirror_mode": {
    "name": "ipython",
    "version": 3
   },
   "file_extension": ".py",
   "mimetype": "text/x-python",
   "name": "python",
   "nbconvert_exporter": "python",
   "pygments_lexer": "ipython3",
   "version": "3.9.16"
  },
  "orig_nbformat": 4,
  "vscode": {
   "interpreter": {
    "hash": "a72927c6923ac8a82df6afc2834fbf5eb49755459bb2afa912a1eb65a377a6e1"
   }
  }
 },
 "nbformat": 4,
 "nbformat_minor": 2
}
